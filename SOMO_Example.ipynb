{
  "nbformat": 4,
  "nbformat_minor": 0,
  "metadata": {
    "colab": {
      "name": "SOMO Example.ipynb",
      "provenance": [],
      "authorship_tag": "ABX9TyNi8TtHfhdK6JuIL5ayVJer",
      "include_colab_link": true
    },
    "kernelspec": {
      "name": "python3",
      "display_name": "Python 3"
    },
    "language_info": {
      "name": "python"
    }
  },
  "cells": [
    {
      "cell_type": "markdown",
      "metadata": {
        "id": "view-in-github",
        "colab_type": "text"
      },
      "source": [
        "<a href=\"https://colab.research.google.com/github/TharindaDilshan/somo_example/blob/main/SOMO_Example.ipynb\" target=\"_parent\"><img src=\"https://colab.research.google.com/assets/colab-badge.svg\" alt=\"Open In Colab\"/></a>"
      ]
    },
    {
      "cell_type": "markdown",
      "source": [
        "## Import Libraries"
      ],
      "metadata": {
        "id": "CYZOSJ1kCUmE"
      }
    },
    {
      "cell_type": "code",
      "execution_count": null,
      "metadata": {
        "id": "4EWNaOia9OkZ"
      },
      "outputs": [],
      "source": [
        "!pip install -U imbalanced-learn\n",
        "!pip install -U cluster-over-sampling\n",
        "!pip install som-learn"
      ]
    },
    {
      "cell_type": "code",
      "source": [
        "from clover.over_sampling import SOMO\n",
        "import math\n",
        "import numpy as np\n",
        "import pandas as pd\n",
        "from random import *\n",
        "from math import isnan\n",
        "\n",
        "from sklearn.metrics import f1_score \n",
        "from imblearn.over_sampling import SMOTE\n",
        "from sklearn.preprocessing import normalize\n",
        "from imblearn.datasets import fetch_datasets \n",
        "from sklearn.model_selection import cross_val_score\n",
        "from sklearn.model_selection import StratifiedKFold\n",
        "from sklearn.model_selection import train_test_split\n",
        "\n",
        "from sklearn.metrics import roc_auc_score\n",
        "from sklearn.metrics import confusion_matrix\n",
        "from sklearn.metrics import classification_report\n",
        "from sklearn.linear_model import LogisticRegression\n",
        "\n",
        "import warnings\n",
        "warnings.filterwarnings('ignore')"
      ],
      "metadata": {
        "id": "oZas7bda9eCx"
      },
      "execution_count": 2,
      "outputs": []
    },
    {
      "cell_type": "markdown",
      "source": [
        "## Custom Cross Validation"
      ],
      "metadata": {
        "id": "4XreLZGvCbBt"
      }
    },
    {
      "cell_type": "code",
      "source": [
        "def custom_cross_val_score(params, X, y, n_splits=5, random_state=0, scoring=roc_auc_score):\n",
        "  skf = StratifiedKFold(n_splits=n_splits)\n",
        "  scores_roc = []\n",
        "  scores_f1_micro = []\n",
        "  scores_f1_macro = []\n",
        "  scores_f1_weighted = []\n",
        "\n",
        "  for train_index, test_index in skf.split(X, y):\n",
        "    X_train, X_test = X[train_index], X[test_index]\n",
        "    y_train, y_test = y[train_index], y[test_index]\n",
        "\n",
        "    somo = SOMO(random_state=42, k_neighbors=params['neigh'], distribution_ratio=params['dist'], raise_error=False)\n",
        "    X_res, y_res = somo.fit_resample(X_train, y_train)\n",
        "\n",
        "    clf = LogisticRegression(random_state=9).fit(X_res, y_res)\n",
        "    pred = clf.predict(X_test)\n",
        "\n",
        "    scores_roc.append(roc_auc_score(y_test, pred))\n",
        "    scores_f1_micro.append(f1_score(y_test, pred, average='micro'))\n",
        "    scores_f1_macro.append(f1_score(y_test, pred, average='macro'))\n",
        "    scores_f1_weighted.append(f1_score(y_test, pred, average='weighted'))\n",
        "\n",
        "  return np.mean(scores_roc), np.mean(scores_f1_micro), np.mean(scores_f1_macro), np.mean(scores_f1_weighted)"
      ],
      "metadata": {
        "id": "H5XD2LvZBDyM"
      },
      "execution_count": 3,
      "outputs": []
    },
    {
      "cell_type": "markdown",
      "source": [
        "## Abalone"
      ],
      "metadata": {
        "id": "veIa9gXHCiLw"
      }
    },
    {
      "cell_type": "code",
      "source": [
        "abalone = fetch_datasets()[\"abalone\"]\n",
        "\n",
        "X, y = abalone.data, abalone.target\n",
        "\n",
        "X = normalize(X)\n",
        "y = [0 if i == -1 else i for i in y]\n",
        "y = np.array(y)\n",
        "\n",
        "neighs = [2, 3, 4, 5]\n",
        "dists = np.linspace(0.1, 1, 10)\n",
        "\n",
        "best_params = {}\n",
        "best_auc_score = 0.0\n",
        "best_f1_micro = 0.0\n",
        "best_f1_macro = 0.0\n",
        "best_f1_weighted = 0.0\n",
        "\n",
        "for neigh in neighs:\n",
        "  for dist in dists:\n",
        "    params = {'neigh': neigh, 'dist': dist}\n",
        "    auc_score, f1_micro, f1_macro, f1_weighted = custom_cross_val_score(params, X, y)\n",
        "    if auc_score > best_auc_score:\n",
        "      best_auc_score = auc_score\n",
        "      best_params = params\n",
        "      best_f1_micro = f1_micro\n",
        "      best_f1_macro = f1_macro\n",
        "      best_f1_weighted = f1_weighted\n",
        "  \n",
        "print(\"\\n\\nBest ROC AUC: \", best_auc_score)\n",
        "print(\"F1 micro: \", best_f1_micro)\n",
        "print(\"F1 macro: \", best_f1_macro)\n",
        "print(\"F1 weighted: \", best_f1_weighted)\n",
        "print(\"Best params: \", best_params)"
      ],
      "metadata": {
        "colab": {
          "base_uri": "https://localhost:8080/"
        },
        "id": "flf-V277BzHs",
        "outputId": "42e6b1bb-0746-4423-fe08-8cbdb98857bd"
      },
      "execution_count": 9,
      "outputs": [
        {
          "output_type": "stream",
          "name": "stdout",
          "text": [
            "\n",
            "\n",
            "Best ROC AUC:  0.5\n",
            "F1 micro:  0.9063922871959429\n",
            "F1 macro:  0.4754489609903329\n",
            "F1 weighted:  0.8618866524112201\n",
            "Best params:  {'neigh': 2, 'dist': 0.1}\n"
          ]
        }
      ]
    },
    {
      "cell_type": "markdown",
      "source": [
        "## Mammography"
      ],
      "metadata": {
        "id": "yFRkDqmaCxl4"
      }
    },
    {
      "cell_type": "code",
      "source": [
        "mammography = fetch_datasets()[\"mammography\"]\n",
        "\n",
        "X, y = mammography.data, mammography.target\n",
        "\n",
        "X = normalize(X)\n",
        "y = [0 if i == -1 else i for i in y]\n",
        "y = np.array(y)\n",
        "\n",
        "neighs = [2, 3, 4, 5]\n",
        "dists = np.linspace(0.1, 1, 10)\n",
        "\n",
        "best_params = {}\n",
        "best_auc_score = 0.0\n",
        "best_f1_micro = 0.0\n",
        "best_f1_macro = 0.0\n",
        "best_f1_weighted = 0.0\n",
        "\n",
        "for neigh in neighs:\n",
        "  for dist in dists:\n",
        "    params = {'neigh': neigh, 'dist': dist}\n",
        "    auc_score, f1_micro, f1_macro, f1_weighted = custom_cross_val_score(params, X, y)\n",
        "    if auc_score > best_auc_score:\n",
        "      best_auc_score = auc_score\n",
        "      best_params = params\n",
        "      best_f1_micro = f1_micro\n",
        "      best_f1_macro = f1_macro\n",
        "      best_f1_weighted = f1_weighted\n",
        "  \n",
        "print(\"\\n\\nBest ROC AUC: \", best_auc_score)\n",
        "print(\"F1 micro: \", best_f1_micro)\n",
        "print(\"F1 macro: \", best_f1_macro)\n",
        "print(\"F1 weighted: \", best_f1_weighted)\n",
        "print(\"Best params: \", best_params)"
      ],
      "metadata": {
        "colab": {
          "base_uri": "https://localhost:8080/"
        },
        "id": "CAsl6yrNC2-6",
        "outputId": "f7a886ec-675a-4106-e4dc-abc70ae90bbb"
      },
      "execution_count": 7,
      "outputs": [
        {
          "output_type": "stream",
          "name": "stdout",
          "text": [
            "\n",
            "\n",
            "Best ROC AUC:  0.5018773103326879\n",
            "F1 micro:  0.9767504636208569\n",
            "F1 macro:  0.49789230627907416\n",
            "F1 weighted:  0.9654368559771893\n",
            "Best params:  {'neigh': 2, 'dist': 0.1}\n"
          ]
        }
      ]
    }
  ]
}